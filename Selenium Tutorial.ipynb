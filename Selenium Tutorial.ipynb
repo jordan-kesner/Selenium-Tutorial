{
 "cells": [
  {
   "cell_type": "markdown",
   "id": "f3346d79",
   "metadata": {},
   "source": [
    "# Selenium Tutorial"
   ]
  },
  {
   "cell_type": "markdown",
   "id": "f59161a2",
   "metadata": {},
   "source": [
    "### What is Selenium?"
   ]
  },
  {
   "cell_type": "markdown",
   "id": "d8c48317",
   "metadata": {},
   "source": [
    "Selenium is a web scraping tool used for scraping dynamic web pages. It allows you to control a web browser using python code."
   ]
  },
  {
   "cell_type": "code",
   "execution_count": 1,
   "id": "085d7401",
   "metadata": {},
   "outputs": [],
   "source": [
    "#for interacting with web servers\n",
    "import requests\n",
    "#for creating dataframes\n",
    "import pandas as pd\n",
    "#for making regular expressions \n",
    "import re\n",
    "#to not overload the web servers\n",
    "import time\n",
    "#for parsing html data\n",
    "from bs4 import BeautifulSoup"
   ]
  },
  {
   "cell_type": "markdown",
   "id": "f0b5c040",
   "metadata": {},
   "source": [
    "## How to install Selenium"
   ]
  },
  {
   "cell_type": "markdown",
   "id": "f3a28e2c",
   "metadata": {},
   "source": [
    "Step 1: Install the Python Bindings for Selenium\n",
    "Can be done by doing \"!pip install selenium\" in the notebook or through the Anaconda Terminal using\n",
    "\"conda install selenium\"\n",
    "\n",
    "Step 2: Download the driver required for your browser. You can find them [here](https://selenium-python.readthedocs.io/installation.html).\n",
    "Use the ChromeDriver for Chrome, SafariDriver for Safari, etc.\n",
    "\n",
    "Step 3: Unzip the file and move the executable file to the same directory as this notebook or the notebook you are working in."
   ]
  },
  {
   "cell_type": "code",
   "execution_count": 2,
   "id": "0ae7b96f",
   "metadata": {},
   "outputs": [],
   "source": [
    "#Once you follow all of these instructions correctly this should work, import selenium \n",
    "import selenium.webdriver"
   ]
  },
  {
   "cell_type": "markdown",
   "id": "2d5bee80",
   "metadata": {},
   "source": [
    "Next we create a \"driver\" object which creates a connection from this python notebook to the outside web browser."
   ]
  },
  {
   "cell_type": "code",
   "execution_count": 3,
   "id": "ec11cb47",
   "metadata": {},
   "outputs": [],
   "source": [
    "driver = selenium.webdriver.Chrome()"
   ]
  },
  {
   "cell_type": "markdown",
   "id": "4173f140",
   "metadata": {},
   "source": [
    "If done correctly a new browser window should open automatically."
   ]
  },
  {
   "cell_type": "code",
   "execution_count": 4,
   "id": "ae9287ad",
   "metadata": {},
   "outputs": [],
   "source": [
    "#Now to go to any website, you use this. For this example we will use google.com.\n",
    "driver.get(\"http://www.google.com\")"
   ]
  },
  {
   "cell_type": "markdown",
   "id": "c1656d4e",
   "metadata": {},
   "source": [
    "This cell should open up google in the browser window. Now we need to get elements on the page and interact with them. Let's google something using code!"
   ]
  },
  {
   "cell_type": "code",
   "execution_count": 5,
   "id": "18ee58f7",
   "metadata": {},
   "outputs": [],
   "source": [
    "#In order to use keyboard and mouse buttons import this:\n",
    "from selenium.webdriver.common.keys import Keys"
   ]
  },
  {
   "cell_type": "markdown",
   "id": "a5b9e9b8",
   "metadata": {},
   "source": [
    "To find different elements of the page do inspect element on the page and then find what element you are looking for. Here we are going to find the element for the search box."
   ]
  },
  {
   "cell_type": "code",
   "execution_count": 6,
   "id": "175b2cec",
   "metadata": {},
   "outputs": [],
   "source": [
    "#the find_element method locates the element\n",
    "query_element = driver.find_element('name','q')"
   ]
  },
  {
   "cell_type": "markdown",
   "id": "deae932e",
   "metadata": {},
   "source": [
    "We can use send_keys to interact with the search bar and search something."
   ]
  },
  {
   "cell_type": "code",
   "execution_count": 7,
   "id": "b72f2652",
   "metadata": {},
   "outputs": [],
   "source": [
    "query_element.send_keys(\"CU Boulder\")"
   ]
  },
  {
   "cell_type": "markdown",
   "id": "6f88a60f",
   "metadata": {},
   "source": [
    "Then to finish the search, tell selenium to press the enter key."
   ]
  },
  {
   "cell_type": "code",
   "execution_count": 8,
   "id": "6429304d",
   "metadata": {},
   "outputs": [],
   "source": [
    "query_element.send_keys(Keys.ENTER)"
   ]
  },
  {
   "cell_type": "markdown",
   "id": "f3280034",
   "metadata": {},
   "source": [
    "In the search page, we can interact with the whole page and scroll down by first finding the body element of the page and then scroll down using Keys."
   ]
  },
  {
   "cell_type": "code",
   "execution_count": 9,
   "id": "f6049e77",
   "metadata": {},
   "outputs": [],
   "source": [
    "#finds the whole body of the page\n",
    "body_element = driver.find_element('xpath','//body')"
   ]
  },
  {
   "cell_type": "code",
   "execution_count": 10,
   "id": "698569cc",
   "metadata": {},
   "outputs": [],
   "source": [
    "#scrolls down\n",
    "body_element.send_keys(Keys.PAGE_DOWN)"
   ]
  },
  {
   "cell_type": "markdown",
   "id": "740ae0f0",
   "metadata": {},
   "source": [
    "This can be made into a loop to scroll even further."
   ]
  },
  {
   "cell_type": "code",
   "execution_count": 11,
   "id": "620e7315",
   "metadata": {},
   "outputs": [],
   "source": [
    "for i in range(5):\n",
    "    body_element.send_keys(Keys.PAGE_DOWN)"
   ]
  },
  {
   "cell_type": "markdown",
   "id": "4a58002c",
   "metadata": {},
   "source": [
    "Make sure to ALWAYS use driver.close() when you are done using selenium. DO NOT just close the window itself."
   ]
  },
  {
   "cell_type": "code",
   "execution_count": 12,
   "id": "4c2e5c7a",
   "metadata": {},
   "outputs": [],
   "source": [
    "driver.close()"
   ]
  },
  {
   "cell_type": "markdown",
   "id": "aa04c73e",
   "metadata": {},
   "source": [
    "## Using Selenium to get New York Times Data"
   ]
  },
  {
   "cell_type": "markdown",
   "id": "a3c91a7f",
   "metadata": {},
   "source": [
    "Now we are going to use Selenium to open up New York Times and collect data from it. First, let's have our driver go to nytimes.com"
   ]
  },
  {
   "cell_type": "code",
   "execution_count": 82,
   "id": "b1dcf781",
   "metadata": {},
   "outputs": [],
   "source": [
    "driver = selenium.webdriver.Chrome()"
   ]
  },
  {
   "cell_type": "code",
   "execution_count": 83,
   "id": "c1e3f190",
   "metadata": {},
   "outputs": [],
   "source": [
    "driver.get(\"https://www.nytimes.com/\")"
   ]
  },
  {
   "cell_type": "markdown",
   "id": "e34906ad",
   "metadata": {},
   "source": [
    "Let's grab a story and see the elements inside.\n",
    "From inspecting the page, it looks like the articles titles inside \\<section> elements."
   ]
  },
  {
   "cell_type": "code",
   "execution_count": 32,
   "id": "49c73a90",
   "metadata": {},
   "outputs": [],
   "source": [
    "#grab the raw page contents\n",
    "raw = driver.page_source.encode('utf-8')\n",
    "#soupify for searching \n",
    "soup = BeautifulSoup(raw)"
   ]
  },
  {
   "cell_type": "markdown",
   "id": "924c6a5a",
   "metadata": {},
   "source": [
    "This element holds all of the stories on the main page."
   ]
  },
  {
   "cell_type": "code",
   "execution_count": 58,
   "id": "01231fad",
   "metadata": {},
   "outputs": [],
   "source": [
    "sections = soup.find_all('section',{\"class\":\"story-wrapper\"})"
   ]
  },
  {
   "cell_type": "code",
   "execution_count": 59,
   "id": "a307ec10",
   "metadata": {},
   "outputs": [
    {
     "data": {
      "text/plain": [
       "97"
      ]
     },
     "execution_count": 59,
     "metadata": {},
     "output_type": "execute_result"
    }
   ],
   "source": [
    "len(sections)"
   ]
  },
  {
   "cell_type": "markdown",
   "id": "337aa0d1",
   "metadata": {},
   "source": [
    "Let's see what is inside one of the sections."
   ]
  },
  {
   "cell_type": "code",
   "execution_count": 60,
   "id": "c1a63a47",
   "metadata": {},
   "outputs": [
    {
     "data": {
      "text/plain": [
       "<section class=\"story-wrapper\"><a aria-hidden=\"false\" class=\"css-9mylee\" data-uri=\"nyt://legacycollection/5849edb4-40f5-5718-9cd6-28c637c8cbe2\" href=\"https://www.nytimes.com/live/2023/10/23/world/israel-hamas-war-gaza-news\"><div><div class=\"css-xdandi\"><h5 class=\"css-4nvt9l\"><span class=\"css-nch2d\">LIVE<time aria-hidden=\"true\" class=\"css-16lxk39\" datetime=\"2023-10-23T22:07:16.028Z\"><div class=\"css-ki347z\"><span class=\"css-1stvlmo\" data-time=\"abs\">Oct. 23, 2023, 6:07 p.m. ET</span><span class=\"css-kpxlkr\" data-time=\"rel\">27m ago</span></div></time><span aria-live=\"polite\" class=\"css-1dv1kvn\">27m ago</span></span></h5><h3 class=\"indicate-hover css-vf1hbp\">Two Additional Hostages Released From Gaza</h3></div><ul class=\"css-1xhq0o5\"><li class=\"summary-class\">The two women were taken to a medical center in Israel to be reunited with family, while more than 200 others are still believed to be held.</li><li class=\"summary-class\">More deaths in Gaza were reported after Israel said it had launched one of the heaviest barrages of airstrikes in recent days.</li></ul></div><p class=\"css-ikai89\">See more updates <span aria-label=\"9 or more more updates available\" class=\"css-h6rqug\" role=\"link\">9+</span></p></a></section>"
      ]
     },
     "execution_count": 60,
     "metadata": {},
     "output_type": "execute_result"
    }
   ],
   "source": [
    "sections[0]"
   ]
  },
  {
   "cell_type": "markdown",
   "id": "6d700c91",
   "metadata": {},
   "source": [
    "Here is how we can pull out the title of each article."
   ]
  },
  {
   "cell_type": "code",
   "execution_count": 66,
   "id": "9e694623",
   "metadata": {},
   "outputs": [
    {
     "data": {
      "text/plain": [
       "'Two Additional Hostages Released From Gaza'"
      ]
     },
     "execution_count": 66,
     "metadata": {},
     "output_type": "execute_result"
    }
   ],
   "source": [
    "sections[0].find_all('h3',{\"class\":\"indicate-hover\"})[0].text"
   ]
  },
  {
   "cell_type": "markdown",
   "id": "c2ebcba3",
   "metadata": {},
   "source": [
    "Let's create a loop that grabs all of these article titles on the page."
   ]
  },
  {
   "cell_type": "code",
   "execution_count": 67,
   "id": "cbf3c51a",
   "metadata": {},
   "outputs": [],
   "source": [
    "articleList = []\n",
    "for d in sections:\n",
    "    title = d.find_all('h3',{\"class\":\"indicate-hover\"})[0].text\n",
    "\n",
    "    \n",
    "    artDict = {\"Title\":title}\n",
    "    articleList.append(artDict)"
   ]
  },
  {
   "cell_type": "markdown",
   "id": "9ae3ced3",
   "metadata": {},
   "source": [
    "Turn this into a dataframe!"
   ]
  },
  {
   "cell_type": "code",
   "execution_count": 73,
   "id": "a257a5bf",
   "metadata": {},
   "outputs": [],
   "source": [
    "articleTitlesDf = pd.DataFrame(articleList)"
   ]
  },
  {
   "cell_type": "code",
   "execution_count": 74,
   "id": "8004910d",
   "metadata": {},
   "outputs": [
    {
     "data": {
      "text/html": [
       "<div>\n",
       "<style scoped>\n",
       "    .dataframe tbody tr th:only-of-type {\n",
       "        vertical-align: middle;\n",
       "    }\n",
       "\n",
       "    .dataframe tbody tr th {\n",
       "        vertical-align: top;\n",
       "    }\n",
       "\n",
       "    .dataframe thead th {\n",
       "        text-align: right;\n",
       "    }\n",
       "</style>\n",
       "<table border=\"1\" class=\"dataframe\">\n",
       "  <thead>\n",
       "    <tr style=\"text-align: right;\">\n",
       "      <th></th>\n",
       "      <th>Title</th>\n",
       "    </tr>\n",
       "  </thead>\n",
       "  <tbody>\n",
       "    <tr>\n",
       "      <th>0</th>\n",
       "      <td>Two Additional Hostages Released From Gaza</td>\n",
       "    </tr>\n",
       "    <tr>\n",
       "      <th>1</th>\n",
       "      <td>War Has Smashed Assumptions About Israeli-Pale...</td>\n",
       "    </tr>\n",
       "    <tr>\n",
       "      <th>2</th>\n",
       "      <td>The developing world sees a double standard in...</td>\n",
       "    </tr>\n",
       "    <tr>\n",
       "      <th>3</th>\n",
       "      <td>More Palestinians have been killed in the West...</td>\n",
       "    </tr>\n",
       "    <tr>\n",
       "      <th>4</th>\n",
       "      <td>Our executive editor discusses an editors’ not...</td>\n",
       "    </tr>\n",
       "    <tr>\n",
       "      <th>5</th>\n",
       "      <td>92NY halted a series after its decision to pul...</td>\n",
       "    </tr>\n",
       "    <tr>\n",
       "      <th>6</th>\n",
       "      <td>Israel compiled raw footage of the Oct. 7 atta...</td>\n",
       "    </tr>\n",
       "    <tr>\n",
       "      <th>7</th>\n",
       "      <td>These are the Hamas officials believed to have...</td>\n",
       "    </tr>\n",
       "    <tr>\n",
       "      <th>8</th>\n",
       "      <td>Doug Emhoff, Kamala Harris’s husband, has draw...</td>\n",
       "    </tr>\n",
       "    <tr>\n",
       "      <th>9</th>\n",
       "      <td>LinkedIn issued a warning to a site shaming pr...</td>\n",
       "    </tr>\n",
       "  </tbody>\n",
       "</table>\n",
       "</div>"
      ],
      "text/plain": [
       "                                               Title\n",
       "0         Two Additional Hostages Released From Gaza\n",
       "1  War Has Smashed Assumptions About Israeli-Pale...\n",
       "2  The developing world sees a double standard in...\n",
       "3  More Palestinians have been killed in the West...\n",
       "4  Our executive editor discusses an editors’ not...\n",
       "5  92NY halted a series after its decision to pul...\n",
       "6  Israel compiled raw footage of the Oct. 7 atta...\n",
       "7  These are the Hamas officials believed to have...\n",
       "8  Doug Emhoff, Kamala Harris’s husband, has draw...\n",
       "9  LinkedIn issued a warning to a site shaming pr..."
      ]
     },
     "execution_count": 74,
     "metadata": {},
     "output_type": "execute_result"
    }
   ],
   "source": [
    "articleTitlesDf.head(10)"
   ]
  },
  {
   "cell_type": "markdown",
   "id": "939df0da",
   "metadata": {},
   "source": [
    "Let's visualize how many words are in each title."
   ]
  },
  {
   "cell_type": "code",
   "execution_count": 75,
   "id": "27131abe",
   "metadata": {},
   "outputs": [],
   "source": [
    "lengths = []\n",
    "for title in articleTitlesDf[\"Title\"]:\n",
    "    lengths.append(len(title))\n",
    "articleTitlesDf[\"Title Length\"] = lengths"
   ]
  },
  {
   "cell_type": "code",
   "execution_count": 76,
   "id": "4b150aef",
   "metadata": {},
   "outputs": [
    {
     "data": {
      "text/html": [
       "<div>\n",
       "<style scoped>\n",
       "    .dataframe tbody tr th:only-of-type {\n",
       "        vertical-align: middle;\n",
       "    }\n",
       "\n",
       "    .dataframe tbody tr th {\n",
       "        vertical-align: top;\n",
       "    }\n",
       "\n",
       "    .dataframe thead th {\n",
       "        text-align: right;\n",
       "    }\n",
       "</style>\n",
       "<table border=\"1\" class=\"dataframe\">\n",
       "  <thead>\n",
       "    <tr style=\"text-align: right;\">\n",
       "      <th></th>\n",
       "      <th>Title</th>\n",
       "      <th>Title Length</th>\n",
       "    </tr>\n",
       "  </thead>\n",
       "  <tbody>\n",
       "    <tr>\n",
       "      <th>0</th>\n",
       "      <td>Two Additional Hostages Released From Gaza</td>\n",
       "      <td>42</td>\n",
       "    </tr>\n",
       "    <tr>\n",
       "      <th>1</th>\n",
       "      <td>War Has Smashed Assumptions About Israeli-Pale...</td>\n",
       "      <td>62</td>\n",
       "    </tr>\n",
       "    <tr>\n",
       "      <th>2</th>\n",
       "      <td>The developing world sees a double standard in...</td>\n",
       "      <td>86</td>\n",
       "    </tr>\n",
       "    <tr>\n",
       "      <th>3</th>\n",
       "      <td>More Palestinians have been killed in the West...</td>\n",
       "      <td>91</td>\n",
       "    </tr>\n",
       "    <tr>\n",
       "      <th>4</th>\n",
       "      <td>Our executive editor discusses an editors’ not...</td>\n",
       "      <td>78</td>\n",
       "    </tr>\n",
       "    <tr>\n",
       "      <th>...</th>\n",
       "      <td>...</td>\n",
       "      <td>...</td>\n",
       "    </tr>\n",
       "    <tr>\n",
       "      <th>92</th>\n",
       "      <td>Connections Companion</td>\n",
       "      <td>21</td>\n",
       "    </tr>\n",
       "    <tr>\n",
       "      <th>93</th>\n",
       "      <td>Connections</td>\n",
       "      <td>11</td>\n",
       "    </tr>\n",
       "    <tr>\n",
       "      <th>94</th>\n",
       "      <td>Spelling Bee</td>\n",
       "      <td>12</td>\n",
       "    </tr>\n",
       "    <tr>\n",
       "      <th>95</th>\n",
       "      <td>The Crossword</td>\n",
       "      <td>13</td>\n",
       "    </tr>\n",
       "    <tr>\n",
       "      <th>96</th>\n",
       "      <td>Letter Boxed</td>\n",
       "      <td>12</td>\n",
       "    </tr>\n",
       "  </tbody>\n",
       "</table>\n",
       "<p>97 rows × 2 columns</p>\n",
       "</div>"
      ],
      "text/plain": [
       "                                                Title  Title Length\n",
       "0          Two Additional Hostages Released From Gaza            42\n",
       "1   War Has Smashed Assumptions About Israeli-Pale...            62\n",
       "2   The developing world sees a double standard in...            86\n",
       "3   More Palestinians have been killed in the West...            91\n",
       "4   Our executive editor discusses an editors’ not...            78\n",
       "..                                                ...           ...\n",
       "92                              Connections Companion            21\n",
       "93                                        Connections            11\n",
       "94                                       Spelling Bee            12\n",
       "95                                      The Crossword            13\n",
       "96                                       Letter Boxed            12\n",
       "\n",
       "[97 rows x 2 columns]"
      ]
     },
     "execution_count": 76,
     "metadata": {},
     "output_type": "execute_result"
    }
   ],
   "source": [
    "articleTitlesDf"
   ]
  },
  {
   "cell_type": "markdown",
   "id": "d6f61b30",
   "metadata": {},
   "source": [
    "And visualize it!"
   ]
  },
  {
   "cell_type": "code",
   "execution_count": 80,
   "id": "76b48967",
   "metadata": {},
   "outputs": [
    {
     "data": {
      "image/png": "[encoded data removed]",
      "text/plain": [
       "<Figure size 640x480 with 1 Axes>"
      ]
     },
     "metadata": {},
     "output_type": "display_data"
    }
   ],
   "source": [
    "import matplotlib.pyplot as plt\n",
    "\n",
    "fig, ax = plt.subplots()\n",
    "\n",
    "ax.bar(articleTitlesDf[\"Title\"], articleTitlesDf[\"Title Length\"])\n",
    "ax.set_xticklabels([])\n",
    "plt.tick_params(axis='x', which='major', labelsize=6)\n"
   ]
  },
  {
   "cell_type": "code",
   "execution_count": 81,
   "id": "e51fec8c",
   "metadata": {},
   "outputs": [],
   "source": [
    "#Don't forget to close the driver.\n",
    "driver.close()"
   ]
  },
  {
   "cell_type": "markdown",
   "id": "12bd2d36",
   "metadata": {},
   "source": [
    "One way to go further with this project could be to add the read length of each article (for example \"6 min read\") and visualize that. I found that this is the element for how long an article would take to read."
   ]
  },
  {
   "cell_type": "code",
   "execution_count": 92,
   "id": "33d42fb6",
   "metadata": {},
   "outputs": [
    {
     "data": {
      "text/plain": [
       "'6 min read'"
      ]
     },
     "execution_count": 92,
     "metadata": {},
     "output_type": "execute_result"
    }
   ],
   "source": [
    "sections[1].find_all(\"p\",{\"class\":\"css-og0y9l\"})[0].text"
   ]
  }
 ],
 "metadata": {
  "kernelspec": {
   "display_name": "Python 3 (ipykernel)",
   "language": "python",
   "name": "python3"
  },
  "language_info": {
   "codemirror_mode": {
    "name": "ipython",
    "version": 3
   },
   "file_extension": ".py",
   "mimetype": "text/x-python",
   "name": "python",
   "nbconvert_exporter": "python",
   "pygments_lexer": "ipython3",
   "version": "3.11.4"
  }
 },
 "nbformat": 4,
 "nbformat_minor": 5
}
